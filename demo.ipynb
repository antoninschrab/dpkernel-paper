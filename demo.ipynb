{
 "cells": [
  {
   "cell_type": "markdown",
   "id": "0cd15687-8197-42f7-a6fb-683850fdf198",
   "metadata": {},
   "source": [
    "# Demo"
   ]
  },
  {
   "cell_type": "code",
   "execution_count": 1,
   "id": "dd049d57-58a6-4285-b8b2-0782c6f8e6f4",
   "metadata": {
    "tags": []
   },
   "outputs": [
    {
     "data": {
      "text/plain": [
       "StreamExecutorGpuDevice(id=0, process_index=0, slice_index=0)"
      ]
     },
     "execution_count": 1,
     "metadata": {},
     "output_type": "execute_result"
    }
   ],
   "source": [
    "# run for Jax GPU\n",
    "from dpkernel import dpmmd, dphsic, human_readable_dict\n",
    "from jax import random\n",
    "import jax.numpy as jnp\n",
    "from jax.config import config\n",
    "config.update(\"jax_enable_x64\", True)\n",
    "X = jnp.array([1, 2])\n",
    "X.device()"
   ]
  },
  {
   "cell_type": "markdown",
   "id": "1f18c90f-d430-4b92-bde9-a98873e41775",
   "metadata": {
    "tags": []
   },
   "source": [
    "## dpMMD"
   ]
  },
  {
   "cell_type": "code",
   "execution_count": 2,
   "id": "78758346-9f95-4f80-81b4-5cbd7fdb903c",
   "metadata": {
    "tags": []
   },
   "outputs": [],
   "source": [
    "# generate data for two-sample testing\n",
    "m = 400\n",
    "n = 500\n",
    "d = 10\n",
    "key = random.PRNGKey(0)\n",
    "key, subkey = random.split(key)\n",
    "subkeys = random.split(subkey, num=2)\n",
    "X = random.uniform(subkeys[0], shape=(m, d))\n",
    "Y = random.uniform(subkeys[1], shape=(n, d)) + 1"
   ]
  },
  {
   "cell_type": "code",
   "execution_count": 3,
   "id": "5cbbce66-3028-462a-83f9-1eebf2b667e3",
   "metadata": {
    "tags": []
   },
   "outputs": [],
   "source": [
    "# compile function\n",
    "epsilon = 30 / jnp.sqrt(n)\n",
    "key, subkey = random.split(key)\n",
    "output, dictionary = dpmmd(subkey, X, Y, epsilon, return_dictionary=True)"
   ]
  },
  {
   "cell_type": "code",
   "execution_count": 4,
   "id": "024705e5-bc14-45a3-aaa1-875892f9dc0c",
   "metadata": {
    "tags": []
   },
   "outputs": [
    {
     "name": "stdout",
     "output_type": "stream",
     "text": [
      "1.1 ms ± 142 ns per loop (mean ± std. dev. of 7 runs, 1,000 loops each)\n"
     ]
    }
   ],
   "source": [
    "# Now the function runs fast for any inputs X and Y of the compiled shaped (500, 10) and any epsilon\n",
    "# If the shape is changed, the function will need to be compiled again\n",
    "# key = random.PRNGKey(1)  # different initialisation\n",
    "subkeys = random.split(subkey, num=2)  # different randomness\n",
    "X = random.uniform(subkeys[0], shape=(m, d))\n",
    "Y = random.uniform(subkeys[1], shape=(n, d)) + 1 \n",
    "%timeit output, dictionary = dpmmd(subkey, X, Y, epsilon, return_dictionary=True)"
   ]
  },
  {
   "cell_type": "code",
   "execution_count": 5,
   "id": "4ab812d9-59f9-4a98-b996-8cb88b56cc29",
   "metadata": {
    "tags": []
   },
   "outputs": [],
   "source": [
    "# generate data and run test\n",
    "# key = random.PRNGKey(2)  # different initialisation\n",
    "subkeys = random.split(subkey, num=2)  # different randomness\n",
    "X = random.uniform(subkeys[0], shape=(m, d))\n",
    "Y = random.uniform(subkeys[1], shape=(n, d)) + 1\n",
    "key, subkey = random.split(key)\n",
    "output, dictionary = dpmmd(subkey, X, Y, epsilon, return_dictionary=True)"
   ]
  },
  {
   "cell_type": "code",
   "execution_count": 6,
   "id": "08aef47c-090d-465e-bc1e-7ba366786476",
   "metadata": {
    "tags": []
   },
   "outputs": [
    {
     "data": {
      "text/plain": [
       "Array(1, dtype=int64)"
      ]
     },
     "execution_count": 6,
     "metadata": {},
     "output_type": "execute_result"
    }
   ],
   "source": [
    "# output is a jax array consisting of either 0 or 1\n",
    "output "
   ]
  },
  {
   "cell_type": "code",
   "execution_count": 7,
   "id": "0336c8c4-9e2a-4699-9186-08921308e481",
   "metadata": {
    "tags": []
   },
   "outputs": [
    {
     "data": {
      "text/plain": [
       "1"
      ]
     },
     "execution_count": 7,
     "metadata": {},
     "output_type": "execute_result"
    }
   ],
   "source": [
    "# to convert it to an int use: \n",
    "output.item()"
   ]
  },
  {
   "cell_type": "code",
   "execution_count": 8,
   "id": "dcb05ab2-ca49-498d-935c-a41881bc9db2",
   "metadata": {
    "tags": []
   },
   "outputs": [
    {
     "data": {
      "text/plain": [
       "{'Bandwidth': 3.1622776601683795,\n",
       " 'DP delta': 0,\n",
       " 'DP epsilon': 1.3416407864998738,\n",
       " 'Kernel gaussian': True,\n",
       " 'Non-privatised MMD V-statistic': 1.0303134075639377,\n",
       " 'Number of permutations': 2000,\n",
       " 'Privacy Laplace noise for MMD V-statistic': 0.0024464216479214897,\n",
       " 'Privatised MMD V-statistic': 1.0327598292118592,\n",
       " 'Privatised MMD quantile': 0.07304867614381999,\n",
       " 'Privatised p-value': 0.0004997501382604241,\n",
       " 'Privatised p-value threshold': 0.05,\n",
       " 'Test level': 0.05,\n",
       " 'dpMMD test reject': True}"
      ]
     },
     "execution_count": 8,
     "metadata": {},
     "output_type": "execute_result"
    }
   ],
   "source": [
    "# test details can be returned in a dictionary\n",
    "human_readable_dict(dictionary) # use to convert jax arrays to scalars\n",
    "dictionary"
   ]
  },
  {
   "cell_type": "code",
   "execution_count": 9,
   "id": "0fa47184-e3c8-4f52-82fc-f567fbbd9322",
   "metadata": {
    "tags": []
   },
   "outputs": [
    {
     "data": {
      "text/plain": [
       "Array(1, dtype=int64)"
      ]
     },
     "execution_count": 9,
     "metadata": {},
     "output_type": "execute_result"
    }
   ],
   "source": [
    "# Various parameters of the test can be adjusted.\n",
    "# See the docstring in dpkernel.py for details.\n",
    "key, subkey = random.split(key)\n",
    "dpmmd(\n",
    "    subkey,\n",
    "    X,\n",
    "    Y,\n",
    "    epsilon,\n",
    "    delta=0,\n",
    "    alpha=0.05,\n",
    "    kernel=\"gaussian\",\n",
    "    bandwidth_multiplier=1,\n",
    "    number_permutations=2000, \n",
    "    return_dictionary=False,\n",
    "    min_mem_kernel=False,\n",
    "    min_mem_permutations=False,\n",
    ")"
   ]
  },
  {
   "cell_type": "markdown",
   "id": "6d7522d5-0e7b-4b1d-a8f0-9b299093ad9e",
   "metadata": {
    "tags": []
   },
   "source": [
    "## dpHSIC"
   ]
  },
  {
   "cell_type": "code",
   "execution_count": 10,
   "id": "fcddffbf-bf99-4f6d-b020-28b82880cc9a",
   "metadata": {
    "tags": []
   },
   "outputs": [],
   "source": [
    "# generate data for independence testing\n",
    "n = 500\n",
    "d_X = d_Y = 10\n",
    "key = random.PRNGKey(0)\n",
    "key, subkey = random.split(key)\n",
    "subkeys = random.split(subkey, num=2)\n",
    "X = random.uniform(subkeys[0], shape=(n, d_X))\n",
    "Y = X + 0.01 * random.uniform(subkeys[1], shape=(n, d_Y))"
   ]
  },
  {
   "cell_type": "code",
   "execution_count": 11,
   "id": "570c8928-4dbe-4316-a148-e23f2e833e5a",
   "metadata": {
    "tags": []
   },
   "outputs": [],
   "source": [
    "# compile function\n",
    "epsilon = 30 / jnp.sqrt(n)\n",
    "key, subkey = random.split(key)\n",
    "output, dictionary = dphsic(subkey, X, Y, epsilon, return_dictionary=True)"
   ]
  },
  {
   "cell_type": "code",
   "execution_count": 12,
   "id": "c8ba00b6-3871-490f-91df-1f7e3a3c0cc4",
   "metadata": {
    "tags": []
   },
   "outputs": [
    {
     "name": "stdout",
     "output_type": "stream",
     "text": [
      "25.5 ms ± 2.26 µs per loop (mean ± std. dev. of 7 runs, 10 loops each)\n"
     ]
    }
   ],
   "source": [
    "# Now the function runs fast for any inputs X and Y of the compiled shaped (500, 100) and any epsilon\n",
    "# If the shape is changed, the function will need to be compiled again\n",
    "# key = random.PRNGKey(1)  # different initialisation\n",
    "subkeys = random.split(subkey, num=2)  # different randomness\n",
    "# subkeys = random.split(subkey, num=2)\n",
    "X = random.uniform(subkeys[0], shape=(n, d_X))\n",
    "Y = X + 0.01 * random.uniform(subkeys[1], shape=(n, d_Y))\n",
    "%timeit output, dictionary = dphsic(subkey, X, Y, epsilon, return_dictionary=True)"
   ]
  },
  {
   "cell_type": "code",
   "execution_count": 13,
   "id": "97adb0bf-4a97-4c54-b1b3-d0400a02e937",
   "metadata": {
    "tags": []
   },
   "outputs": [],
   "source": [
    "# generate data and run test\n",
    "# key = random.PRNGKey(2)  # different initialisation\n",
    "subkeys = random.split(subkey, num=2)  # different randomness\n",
    "X = random.uniform(subkeys[0], shape=(n, d_X))\n",
    "Y = X + 0.01 * random.uniform(subkeys[1], shape=(n, d_Y))\n",
    "key, subkey = random.split(key)\n",
    "output, dictionary = dphsic(subkey, X, Y, epsilon, return_dictionary=True)"
   ]
  },
  {
   "cell_type": "code",
   "execution_count": 14,
   "id": "aa17c6cf-3bc7-436f-b170-5278ccaf7a0f",
   "metadata": {
    "tags": []
   },
   "outputs": [
    {
     "data": {
      "text/plain": [
       "Array(1, dtype=int64)"
      ]
     },
     "execution_count": 14,
     "metadata": {},
     "output_type": "execute_result"
    }
   ],
   "source": [
    "# output is a jax array consisting of either 0 or 1\n",
    "output "
   ]
  },
  {
   "cell_type": "code",
   "execution_count": 15,
   "id": "2fbbc68c-8767-4b1a-9b21-5dda037d28d1",
   "metadata": {
    "tags": []
   },
   "outputs": [
    {
     "data": {
      "text/plain": [
       "1"
      ]
     },
     "execution_count": 15,
     "metadata": {},
     "output_type": "execute_result"
    }
   ],
   "source": [
    "# to convert it to an int use: \n",
    "output.item()"
   ]
  },
  {
   "cell_type": "code",
   "execution_count": 16,
   "id": "9d1f7f50-9b07-49c3-b658-1b875aff772f",
   "metadata": {
    "tags": []
   },
   "outputs": [
    {
     "data": {
      "text/plain": [
       "{'Bandwidth X': 3.1622776601683795,\n",
       " 'Bandwidth Y': 3.1622776601683795,\n",
       " 'DP delta': 0,\n",
       " 'DP epsilon': 1.3416407864998738,\n",
       " 'Kernel X gaussian': True,\n",
       " 'Kernel Y gaussian': True,\n",
       " 'Non-privatised HSIC V-statistic': 0.04372783993115604,\n",
       " 'Number of permutations': 2000,\n",
       " 'Privacy Laplace noise for HSIC V-statistic': 0.005524549037481856,\n",
       " 'Privatised HSIC V-statistic': 0.04925238896863789,\n",
       " 'Privatised HSIC quantile': 0.03282314987336105,\n",
       " 'Privatised p-value': 0.015992004424333572,\n",
       " 'Privatised p-value threshold': 0.05,\n",
       " 'Test level': 0.05,\n",
       " 'dpHSIC test reject': True}"
      ]
     },
     "execution_count": 16,
     "metadata": {},
     "output_type": "execute_result"
    }
   ],
   "source": [
    "# test details can be returned in a dictionary\n",
    "human_readable_dict(dictionary) # use to convert jax arrays to scalars\n",
    "dictionary"
   ]
  },
  {
   "cell_type": "code",
   "execution_count": 17,
   "id": "5f257485-fb0a-48fb-a6b5-6673d90e8469",
   "metadata": {
    "tags": []
   },
   "outputs": [
    {
     "data": {
      "text/plain": [
       "Array(1, dtype=int64)"
      ]
     },
     "execution_count": 17,
     "metadata": {},
     "output_type": "execute_result"
    }
   ],
   "source": [
    "# Various parameters of the test can be adjusted.\n",
    "# See the docstring in dpkernel.py for details.\n",
    "key, subkey = random.split(key)\n",
    "dphsic(\n",
    "    subkey,\n",
    "    X,\n",
    "    Y,\n",
    "    epsilon,\n",
    "    delta=0,\n",
    "    alpha=0.05,\n",
    "    bandwidth_multiplier_X=1,\n",
    "    bandwidth_multiplier_Y=1,\n",
    "    kernel_X=\"gaussian\",\n",
    "    kernel_Y=\"gaussian\",\n",
    "    number_permutations=2000,\n",
    "    return_dictionary=False,\n",
    "    min_mem_kernel=False,\n",
    ")"
   ]
  }
 ],
 "metadata": {
  "kernelspec": {
   "display_name": "Python 3 (ipykernel)",
   "language": "python",
   "name": "python3"
  },
  "language_info": {
   "codemirror_mode": {
    "name": "ipython",
    "version": 3
   },
   "file_extension": ".py",
   "mimetype": "text/x-python",
   "name": "python",
   "nbconvert_exporter": "python",
   "pygments_lexer": "ipython3",
   "version": "3.9.16"
  }
 },
 "nbformat": 4,
 "nbformat_minor": 5
}
